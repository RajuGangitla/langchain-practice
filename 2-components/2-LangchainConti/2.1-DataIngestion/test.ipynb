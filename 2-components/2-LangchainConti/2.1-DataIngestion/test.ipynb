{
 "cells": [
  {
   "cell_type": "code",
   "execution_count": 66,
   "metadata": {},
   "outputs": [
    {
     "data": {
      "text/plain": [
       "True"
      ]
     },
     "execution_count": 66,
     "metadata": {},
     "output_type": "execute_result"
    }
   ],
   "source": [
    "import os \n",
    "from dotenv import load_dotenv\n",
    "\n",
    "load_dotenv()"
   ]
  },
  {
   "cell_type": "code",
   "execution_count": 67,
   "metadata": {},
   "outputs": [],
   "source": [
    "os.environ[\"OPEN_AI_KEY\"] = os.getenv(\"OPEN_AI_KEY\")\n",
    "os.environ[\"OPENAI_API_VERSION\"] = os.getenv(\"OPENAI_API_VERSION\")\n",
    "os.environ[\"LANGCHAIN_API_KEY\"] = os.getenv(\"LANGCHAIN_API_KEY\")\n",
    "os.environ[\"LANGCHAIN_PROJECT\"] = os.getenv(\"LANGCHAIN_PROJECT\")\n",
    "os.environ[\"LANGCHAIN_TRACING_V2\"] = \"true\""
   ]
  },
  {
   "cell_type": "code",
   "execution_count": 68,
   "metadata": {},
   "outputs": [
    {
     "data": {
      "text/plain": [
       "<langchain_community.document_loaders.text.TextLoader at 0x28fa85a6c00>"
      ]
     },
     "execution_count": 68,
     "metadata": {},
     "output_type": "execute_result"
    }
   ],
   "source": [
    "from langchain_community.document_loaders import TextLoader\n",
    "\n",
    "loader=TextLoader('speech.txt')\n",
    "loader\n"
   ]
  },
  {
   "cell_type": "code",
   "execution_count": 69,
   "metadata": {},
   "outputs": [
    {
     "data": {
      "text/plain": [
       "[Document(metadata={'source': 'speech.txt'}, page_content='Raju Gangitla is a Full Stack Developer from India, currently working at Zedblock, where he has been contributing for nearly two years. He earned his Bachelor of Technology (BTech) degree from Vignan\\'s Institute of Information Technology. \\ue200cite\\ue202turn0search1\\ue201\\n\\nIn his professional journey, Raju is engaged in developing AI products and is expanding his expertise in technologies such as Next.js, NestJS, MongoDB, PostgreSQL, and Google Cloud Platform (GCP). \\ue200cite\\ue202turn0search0\\ue201\\n\\nRaju is also an active open-source contributor. During Hacktoberfest 2024, he participated in the oss.gg Hackathon, contributing to projects like Formbricks, Dub, Papermark, and Unkey. He documented his experiences in a blog post titled \"Working by Day, Hacking by Night: My oss.gg Hackathon Experience.\" \\ue200cite\\ue202turn0search7\\ue201\\n\\nBeyond his professional endeavors, Raju shares insights and guides on platforms like DEV Community. Notably, he authored \"Self-Hosting Twenty CRM: A Complete Guide,\" providing step-by-step instructions for setting up the open-source CRM on personal servers. \\ue200cite\\ue202turn0search8\\ue201\\n\\nFor more information or to connect with Raju, you can visit his GitHub profile. \\ue200cite\\ue202turn0search0\\ue201 ')]"
      ]
     },
     "execution_count": 69,
     "metadata": {},
     "output_type": "execute_result"
    }
   ],
   "source": [
    "docs=loader.load()\n",
    "docs"
   ]
  },
  {
   "cell_type": "code",
   "execution_count": 70,
   "metadata": {},
   "outputs": [
    {
     "data": {
      "text/plain": [
       "[Document(metadata={'source': 'speech.txt'}, page_content=\"Raju Gangitla is a Full Stack Developer from India, currently working at Zedblock, where he has been contributing for nearly two years. He earned his Bachelor of Technology (BTech) degree from Vignan's Institute of Information Technology. \\ue200cite\\ue202turn0search1\\ue201\\n\\nIn his professional journey, Raju is engaged in developing AI products and is expanding his expertise in technologies such as Next.js, NestJS, MongoDB, PostgreSQL, and Google Cloud Platform (GCP). \\ue200cite\\ue202turn0search0\\ue201\"),\n",
       " Document(metadata={'source': 'speech.txt'}, page_content='Raju is also an active open-source contributor. During Hacktoberfest 2024, he participated in the oss.gg Hackathon, contributing to projects like Formbricks, Dub, Papermark, and Unkey. He documented his experiences in a blog post titled \"Working by Day, Hacking by Night: My oss.gg Hackathon Experience.\" \\ue200cite\\ue202turn0search7\\ue201'),\n",
       " Document(metadata={'source': 'speech.txt'}, page_content='Beyond his professional endeavors, Raju shares insights and guides on platforms like DEV Community. Notably, he authored \"Self-Hosting Twenty CRM: A Complete Guide,\" providing step-by-step instructions for setting up the open-source CRM on personal servers. \\ue200cite\\ue202turn0search8\\ue201\\n\\nFor more information or to connect with Raju, you can visit his GitHub profile. \\ue200cite\\ue202turn0search0\\ue201')]"
      ]
     },
     "execution_count": 70,
     "metadata": {},
     "output_type": "execute_result"
    }
   ],
   "source": [
    "from langchain_text_splitters import RecursiveCharacterTextSplitter\n",
    "\n",
    "text_splitter = RecursiveCharacterTextSplitter(chunk_size=500, chunk_overlap=50)\n",
    "final_documents  = text_splitter.split_documents(docs)\n",
    "final_documents"
   ]
  },
  {
   "cell_type": "code",
   "execution_count": 71,
   "metadata": {},
   "outputs": [],
   "source": [
    "import os\n",
    "from langchain_openai import AzureOpenAIEmbeddings\n",
    "\n",
    "embeddings = AzureOpenAIEmbeddings(\n",
    "        azure_deployment=\"text-embedding-ada-002\",\n",
    "        azure_endpoint=os.getenv(\"AZURE_OPENAI_ENDPOINT\"),\n",
    "        api_key=os.getenv(\"OPEN_AI_KEY\"),\n",
    "        api_version=\"2023-05-15\"\n",
    "        )"
   ]
  },
  {
   "cell_type": "code",
   "execution_count": 72,
   "metadata": {},
   "outputs": [],
   "source": [
    "import os\n",
    "from langchain_openai import AzureChatOpenAI\n",
    "\n",
    "llm = AzureChatOpenAI(model=\"gpt-4o\", api_key=os.getenv(\"OPEN_AI_KEY\"), api_version=os.getenv(\"OPENAI_API_VERSION\"))\n"
   ]
  },
  {
   "cell_type": "code",
   "execution_count": 73,
   "metadata": {},
   "outputs": [
    {
     "data": {
      "text/plain": [
       "<langchain_community.vectorstores.faiss.FAISS at 0x28fa85ae0f0>"
      ]
     },
     "execution_count": 73,
     "metadata": {},
     "output_type": "execute_result"
    }
   ],
   "source": [
    "from langchain_community.vectorstores import FAISS\n",
    "\n",
    "vector_store = FAISS.from_documents(final_documents, embeddings)\n",
    "\n",
    "vector_store"
   ]
  },
  {
   "cell_type": "code",
   "execution_count": 74,
   "metadata": {},
   "outputs": [],
   "source": [
    "from langchain_core.prompts import ChatPromptTemplate\n",
    "\n",
    "prompt  = ChatPromptTemplate.from_template(\n",
    "    \"\"\"\n",
    "    summarise the following context in simple and short in one line \n",
    "    {context}\n",
    "\"\"\"\n",
    ")"
   ]
  },
  {
   "cell_type": "code",
   "execution_count": 75,
   "metadata": {},
   "outputs": [],
   "source": [
    "retreiver = vector_store.as_retriever()\n",
    "\n",
    "from langchain.chains.combine_documents import create_stuff_documents_chain\n",
    "\n",
    "document_chain = create_stuff_documents_chain(llm, prompt)"
   ]
  },
  {
   "cell_type": "code",
   "execution_count": 76,
   "metadata": {},
   "outputs": [],
   "source": [
    "from langchain.chains import create_retrieval_chain\n",
    "\n",
    "retriever_chain = create_retrieval_chain(retreiver, document_chain)\n"
   ]
  },
  {
   "cell_type": "code",
   "execution_count": 80,
   "metadata": {},
   "outputs": [
    {
     "data": {
      "text/plain": [
       "{'input': 'Who is Raju Gangitla ',\n",
       " 'context': [Document(id='98deea29-ddc8-498c-a22e-3b3cffdcd56e', metadata={'source': 'speech.txt'}, page_content=\"Raju Gangitla is a Full Stack Developer from India, currently working at Zedblock, where he has been contributing for nearly two years. He earned his Bachelor of Technology (BTech) degree from Vignan's Institute of Information Technology. \\ue200cite\\ue202turn0search1\\ue201\\n\\nIn his professional journey, Raju is engaged in developing AI products and is expanding his expertise in technologies such as Next.js, NestJS, MongoDB, PostgreSQL, and Google Cloud Platform (GCP). \\ue200cite\\ue202turn0search0\\ue201\"),\n",
       "  Document(id='779231b3-ba80-4c73-b49e-5f3be2b6b1fb', metadata={'source': 'speech.txt'}, page_content='Raju is also an active open-source contributor. During Hacktoberfest 2024, he participated in the oss.gg Hackathon, contributing to projects like Formbricks, Dub, Papermark, and Unkey. He documented his experiences in a blog post titled \"Working by Day, Hacking by Night: My oss.gg Hackathon Experience.\" \\ue200cite\\ue202turn0search7\\ue201'),\n",
       "  Document(id='6b0c4a31-9b86-45cf-a747-0d06efc913d6', metadata={'source': 'speech.txt'}, page_content='Beyond his professional endeavors, Raju shares insights and guides on platforms like DEV Community. Notably, he authored \"Self-Hosting Twenty CRM: A Complete Guide,\" providing step-by-step instructions for setting up the open-source CRM on personal servers. \\ue200cite\\ue202turn0search8\\ue201\\n\\nFor more information or to connect with Raju, you can visit his GitHub profile. \\ue200cite\\ue202turn0search0\\ue201')],\n",
       " 'answer': 'Raju Gangitla, an Indian Full Stack Developer at Zedblock, contributes to AI product development, open-source projects, and shares guides on DEV Community.'}"
      ]
     },
     "execution_count": 80,
     "metadata": {},
     "output_type": "execute_result"
    }
   ],
   "source": [
    "\n",
    "result  = retriever_chain.invoke({\"input\":\"Who is Raju Gangitla \"})\n",
    "result"
   ]
  },
  {
   "cell_type": "code",
   "execution_count": 81,
   "metadata": {},
   "outputs": [
    {
     "data": {
      "text/plain": [
       "'Raju Gangitla, an Indian Full Stack Developer at Zedblock, contributes to AI product development, open-source projects, and shares guides on DEV Community.'"
      ]
     },
     "execution_count": 81,
     "metadata": {},
     "output_type": "execute_result"
    }
   ],
   "source": [
    "result['answer']"
   ]
  }
 ],
 "metadata": {
  "kernelspec": {
   "display_name": "Python 3",
   "language": "python",
   "name": "python3"
  },
  "language_info": {
   "codemirror_mode": {
    "name": "ipython",
    "version": 3
   },
   "file_extension": ".py",
   "mimetype": "text/x-python",
   "name": "python",
   "nbconvert_exporter": "python",
   "pygments_lexer": "ipython3",
   "version": "3.12.0"
  }
 },
 "nbformat": 4,
 "nbformat_minor": 2
}
